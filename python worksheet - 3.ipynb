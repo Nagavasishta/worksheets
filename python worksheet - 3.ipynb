{
 "cells": [
  {
   "cell_type": "code",
   "execution_count": 9,
   "metadata": {},
   "outputs": [
    {
     "name": "stdout",
     "output_type": "stream",
     "text": [
      "        * \r\n",
      "       * * \r\n",
      "      * * * \r\n",
      "     * * * * \r\n",
      "    * * * * * \r\n"
     ]
    }
   ],
   "source": [
    "#triangle\n",
    "def triangle(n): \n",
    "      \n",
    "    # number of spaces \n",
    "    k = 2*n - 2\n",
    "  \n",
    "    # outer loop to handle number of rows \n",
    "    for i in range(0, n): \n",
    "      \n",
    "        # inner loop to handle number spaces \n",
    "        # values changing acc. to requirement \n",
    "        for j in range(0, k): \n",
    "            print(end=\" \") \n",
    "      \n",
    "        # decrementing k after each loop \n",
    "        k = k - 1\n",
    "      \n",
    "        # inner loop to handle number of columns \n",
    "        # values changing acc. to outer loop \n",
    "        for j in range(0, i+1): \n",
    "          \n",
    "            # printing stars \n",
    "            print(\"* \", end=\"\") \n",
    "      \n",
    "        # ending line after each row \n",
    "        print(\"\\r\") \n",
    "  \n",
    "# Driver Code \n",
    "n = 5\n",
    "triangle(n) "
   ]
  },
  {
   "cell_type": "code",
   "execution_count": 10,
   "metadata": {},
   "outputs": [
    {
     "name": "stdout",
     "output_type": "stream",
     "text": [
      "* * * * * \n",
      " * * * * \n",
      "  * * * \n",
      "   * * \n",
      "    * \n",
      "    * \n",
      "   * * \n",
      "  * * * \n",
      " * * * * \n",
      "* * * * * \n"
     ]
    }
   ],
   "source": [
    "#hour glass\n",
    "def main():\n",
    "    character = \"*\"\n",
    "    rows_number = 5\n",
    "\n",
    "    if not(character.endswith(\" \")):    # Ending the character with a space is done so as to adjust the output.\n",
    "        character+= \" \" \n",
    "\n",
    "    for i in range(rows_number):\n",
    "        print(\" \"*i+character*(rows_number-i))\n",
    "    for j in range(1, rows_number+1):\n",
    "        print(\" \"*(rows_number-j)+character*j)\n",
    "\n",
    "if __name__ == \"__main__\":\n",
    "    main()"
   ]
  },
  {
   "cell_type": "code",
   "execution_count": 11,
   "metadata": {},
   "outputs": [
    {
     "name": "stdout",
     "output_type": "stream",
     "text": [
      "1 \n",
      "1 1 \n",
      "1 2 1 \n",
      "1 3 3 1 \n",
      "1 4 6 4 1 \n"
     ]
    }
   ],
   "source": [
    "# Pascal function  \n",
    "def printPascal(n):  \n",
    "  \n",
    "    for line in range(1, n + 1):  \n",
    "        C = 1; # used to represent C(line, i)  \n",
    "        for i in range(1, line + 1):  \n",
    "              \n",
    "            # The first value in a  \n",
    "            # line is always 1  \n",
    "            print(C, end = \" \");  \n",
    "            C = int(C * (line - i) / i);  \n",
    "        print(\"\");  \n",
    "  \n",
    "# Driver code  \n",
    "n = 5;  \n",
    "printPascal(n);"
   ]
  },
  {
   "cell_type": "code",
   "execution_count": 12,
   "metadata": {},
   "outputs": [
    {
     "name": "stdout",
     "output_type": "stream",
     "text": [
      "    *\n",
      "   ***\n",
      "  *****\n",
      " *******\n",
      "*********\n",
      " *******\n",
      "  *****\n",
      "   ***\n",
      "    *\n"
     ]
    }
   ],
   "source": [
    "# Diamond shape \n",
    "def Diamond(rows): \n",
    "    n = 0\n",
    "    for i in range(1, rows + 1): \n",
    "        # loop to print spaces \n",
    "        for j in range (1, (rows - i) + 1): \n",
    "            print(end = \" \") \n",
    "          \n",
    "        # loop to print star \n",
    "        while n != (2 * i - 1): \n",
    "            print(\"*\", end = \"\") \n",
    "            n = n + 1\n",
    "        n = 0\n",
    "          \n",
    "        # line break \n",
    "        print()  \n",
    "  \n",
    "    k = 1\n",
    "    n = 1\n",
    "    for i in range(1, rows): \n",
    "        # loop to print spaces \n",
    "        for j in range (1, k + 1): \n",
    "            print(end = \" \") \n",
    "        k = k + 1\n",
    "          \n",
    "        # loop to print star \n",
    "        while n <= (2 * (rows - i) - 1): \n",
    "            print(\"*\", end = \"\") \n",
    "            n = n + 1\n",
    "        n = 1\n",
    "        print() \n",
    "  \n",
    "# Driver Code \n",
    "# number of rows input \n",
    "rows = 5\n",
    "Diamond(rows) "
   ]
  },
  {
   "cell_type": "code",
   "execution_count": 246,
   "metadata": {
    "scrolled": false
   },
   "outputs": [
    {
     "name": "stdout",
     "output_type": "stream",
     "text": [
      "          A \r\n",
      "         A B \r\n",
      "        A B C \r\n",
      "       A B C D \r\n",
      "      A B C D E \r\n",
      "     \r\n",
      "      \r\n",
      "       \r\n",
      "        \r\n",
      "         \r\n",
      "          A \r\n"
     ]
    }
   ],
   "source": [
    "# Diamond shape \n",
    "def pattern(n):\n",
    "    k = 2 * n\n",
    "    for i in range(0, n):\n",
    "        for j in range(0, k):\n",
    "            print(end=\" \")\n",
    "        k = k - 1\n",
    "        x = 65\n",
    "        for j in range(0, i+1):\n",
    "            ch = chr(x)\n",
    "            print(ch, end=\" \")\n",
    "            x += 1\n",
    "        print(\"\\r\")\n",
    "    k = n\n",
    "    x = 65\n",
    "    for i in range(n, -1, -1):\n",
    "        for j in range(k, 0, -1):\n",
    "            print(end=\" \")\n",
    "        k = k + 1\n",
    "        for j in range(i-1, 0):\n",
    "            ch = chr(x)\n",
    "            print(ch, end=\" \")\n",
    "            x -= 1\n",
    "        print(\"\\r\")\n",
    " \n",
    " \n",
    "pattern(5)"
   ]
  },
  {
   "cell_type": "code",
   "execution_count": null,
   "metadata": {},
   "outputs": [],
   "source": []
  }
 ],
 "metadata": {
  "kernelspec": {
   "display_name": "Python 3",
   "language": "python",
   "name": "python3"
  }
 },
 "nbformat": 4,
 "nbformat_minor": 4
}
