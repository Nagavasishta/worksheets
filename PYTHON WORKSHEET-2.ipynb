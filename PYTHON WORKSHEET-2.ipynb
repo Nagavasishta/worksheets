{
 "cells": [
  {
   "cell_type": "code",
   "execution_count": 3,
   "metadata": {},
   "outputs": [],
   "source": [
    "#factorial\n",
    "def fact(n):\n",
    "    if(n==0):\n",
    "        return 1\n",
    "    else:\n",
    "        return n*fact(n-1)\n",
    "    x=int(input(\"Enter x: \"))\n",
    "    y=fact(x)\n",
    "    print(\"{}! = {}\".format(x,y))"
   ]
  },
  {
   "cell_type": "code",
   "execution_count": 4,
   "metadata": {},
   "outputs": [
    {
     "name": "stdout",
     "output_type": "stream",
     "text": [
      "120\n"
     ]
    }
   ],
   "source": [
    "x=5\n",
    "y=fact(x)\n",
    "print(y)"
   ]
  },
  {
   "cell_type": "code",
   "execution_count": 5,
   "metadata": {},
   "outputs": [
    {
     "name": "stdout",
     "output_type": "stream",
     "text": [
      "Enter any number:29\n",
      "29 is a prime number\n",
      "29 is a prime number\n",
      "29 is a prime number\n",
      "29 is a prime number\n",
      "29 is a prime number\n",
      "29 is a prime number\n",
      "29 is a prime number\n",
      "29 is a prime number\n",
      "29 is a prime number\n",
      "29 is a prime number\n",
      "29 is a prime number\n",
      "29 is a prime number\n",
      "29 is a prime number\n",
      "29 is a prime number\n",
      "29 is a prime number\n",
      "29 is a prime number\n",
      "29 is a prime number\n",
      "29 is a prime number\n",
      "29 is a prime number\n",
      "29 is a prime number\n",
      "29 is a prime number\n",
      "29 is a prime number\n",
      "29 is a prime number\n",
      "29 is a prime number\n",
      "29 is a prime number\n",
      "29 is a prime number\n",
      "29 is a prime number\n"
     ]
    }
   ],
   "source": [
    "#composite or prime number\n",
    "num =int(input(\"Enter any number:\"))\n",
    "\n",
    "if num>1:\n",
    "    for i in range (2,num):\n",
    "        if num % i==0:\n",
    "            print(num,'is not a prime number')\n",
    "            break\n",
    "        else:\n",
    "            print(num,'is a prime number')\n",
    "elif num == 0 or num == 1:\n",
    "    print(num,'is neither prime nor composite number')\n",
    "else:\n",
    "    print(num,'is a prime number')"
   ]
  },
  {
   "cell_type": "code",
   "execution_count": 7,
   "metadata": {},
   "outputs": [
    {
     "name": "stdout",
     "output_type": "stream",
     "text": [
      "please enter your own string : radix\n",
      "string in reverse order :  r\n",
      "string in reverse order :  ar\n",
      "string in reverse order :  dar\n",
      "string in reverse order :  idar\n",
      "string in reverse order :  xidar\n",
      "this is not a palindrome string\n"
     ]
    }
   ],
   "source": [
    "#palindrome\n",
    "string =input('please enter your own string : ')\n",
    "str1=\"\"\n",
    "\n",
    "for i in string:\n",
    "    str1 = i + str1\n",
    "    print('string in reverse order : ',str1)\n",
    "    \n",
    "    if(string == str1):\n",
    "        print('this is palindrome string')\n",
    "else:\n",
    "    print('this is not a palindrome string')"
   ]
  },
  {
   "cell_type": "code",
   "execution_count": null,
   "metadata": {},
   "outputs": [],
   "source": []
  }
 ],
 "metadata": {
  "kernelspec": {
   "display_name": "Python 3",
   "language": "python",
   "name": "python3"
  },
  "language_info": {
   "codemirror_mode": {
    "name": "ipython",
    "version": 3
   },
   "file_extension": ".py",
   "mimetype": "text/x-python",
   "name": "python",
   "nbconvert_exporter": "python",
   "pygments_lexer": "ipython3",
   "version": "3.8.3"
  }
 },
 "nbformat": 4,
 "nbformat_minor": 4
}
